{
 "cells": [
  {
   "cell_type": "code",
   "execution_count": 62,
   "metadata": {},
   "outputs": [],
   "source": [
    "import pandas as pd\n",
    "import numpy as np"
   ]
  },
  {
   "cell_type": "code",
   "execution_count": 63,
   "metadata": {},
   "outputs": [],
   "source": [
    "import seaborn as sns\n",
    "import matplotlib.pyplot as plt\n",
    "%matplotlib inline"
   ]
  },
  {
   "cell_type": "code",
   "execution_count": 77,
   "metadata": {},
   "outputs": [],
   "source": [
    "import plotly.plotly as py\n",
    "import plotly.graph_objs as go\n",
    "import plotly\n",
    "plotly.tools.set_credentials_file(username='eliascm17', api_key='69rn6OkkgvDBcykPw10T')\n",
    "\n",
    "\n",
    "mapbox_access_token = 'pk.eyJ1IjoiZWxpYXNjbTE3IiwiYSI6ImNqa2g5aGtpaDBwaHIzcW1pbTlva2JmdDUifQ.afEyFbX4025-fRgh8PNxrA'"
   ]
  },
  {
   "cell_type": "code",
   "execution_count": 78,
   "metadata": {},
   "outputs": [],
   "source": [
    "df = pd.read_csv('chicago-grocery-stores-2013/grocery-stores-2013.csv')"
   ]
  },
  {
   "cell_type": "code",
   "execution_count": 79,
   "metadata": {},
   "outputs": [
    {
     "data": {
      "text/html": [
       "<div>\n",
       "<style scoped>\n",
       "    .dataframe tbody tr th:only-of-type {\n",
       "        vertical-align: middle;\n",
       "    }\n",
       "\n",
       "    .dataframe tbody tr th {\n",
       "        vertical-align: top;\n",
       "    }\n",
       "\n",
       "    .dataframe thead th {\n",
       "        text-align: right;\n",
       "    }\n",
       "</style>\n",
       "<table border=\"1\" class=\"dataframe\">\n",
       "  <thead>\n",
       "    <tr style=\"text-align: right;\">\n",
       "      <th></th>\n",
       "      <th>STORE NAME</th>\n",
       "      <th>LICENSE ID</th>\n",
       "      <th>ACCOUNT NUMBER</th>\n",
       "      <th>SQUARE FEET</th>\n",
       "      <th>BUFFER SIZE</th>\n",
       "      <th>ADDRESS</th>\n",
       "      <th>ZIP CODE</th>\n",
       "      <th>COMMUNITY AREA NAME</th>\n",
       "      <th>COMMUNITY AREA</th>\n",
       "      <th>WARD</th>\n",
       "      <th>CENSUS TRACT</th>\n",
       "      <th>CENSUS BLOCK</th>\n",
       "      <th>X COORDINATE</th>\n",
       "      <th>Y COORDINATE</th>\n",
       "      <th>LATITUDE</th>\n",
       "      <th>LONGITUDE</th>\n",
       "      <th>LOCATION</th>\n",
       "    </tr>\n",
       "  </thead>\n",
       "  <tbody>\n",
       "    <tr>\n",
       "      <th>0</th>\n",
       "      <td>200 LIQUORS</td>\n",
       "      <td>48663.0</td>\n",
       "      <td>17055.0</td>\n",
       "      <td>5000.0</td>\n",
       "      <td>B</td>\n",
       "      <td>204 E 47TH ST</td>\n",
       "      <td>60653</td>\n",
       "      <td>GRAND BOULEVARD</td>\n",
       "      <td>38</td>\n",
       "      <td>3</td>\n",
       "      <td>17031381500</td>\n",
       "      <td>1.703138e+14</td>\n",
       "      <td>1.178462e+06</td>\n",
       "      <td>1.873949e+06</td>\n",
       "      <td>41.809424</td>\n",
       "      <td>-87.620952</td>\n",
       "      <td>{'latitude': '41.8094238941', 'needs_recoding'...</td>\n",
       "    </tr>\n",
       "    <tr>\n",
       "      <th>1</th>\n",
       "      <td>3600 COMMISSARY</td>\n",
       "      <td>24279.0</td>\n",
       "      <td>9830.0</td>\n",
       "      <td>3800.0</td>\n",
       "      <td>B</td>\n",
       "      <td>3600 N LAKE SHORE DR</td>\n",
       "      <td>60613</td>\n",
       "      <td>LAKE VIEW</td>\n",
       "      <td>6</td>\n",
       "      <td>46</td>\n",
       "      <td>17031060900</td>\n",
       "      <td>1.703106e+14</td>\n",
       "      <td>1.171866e+06</td>\n",
       "      <td>1.924645e+06</td>\n",
       "      <td>41.948684</td>\n",
       "      <td>-87.643650</td>\n",
       "      <td>{'latitude': '41.9486836744', 'needs_recoding'...</td>\n",
       "    </tr>\n",
       "    <tr>\n",
       "      <th>2</th>\n",
       "      <td>4343 PETES FRESH MARKET</td>\n",
       "      <td>1336669.0</td>\n",
       "      <td>260303.0</td>\n",
       "      <td>57000.0</td>\n",
       "      <td>A</td>\n",
       "      <td>4343 S PULASKI RD</td>\n",
       "      <td>60632</td>\n",
       "      <td>ARCHER HEIGHTS</td>\n",
       "      <td>57</td>\n",
       "      <td>14</td>\n",
       "      <td>17031570100</td>\n",
       "      <td>1.703157e+14</td>\n",
       "      <td>1.150448e+06</td>\n",
       "      <td>1.875370e+06</td>\n",
       "      <td>41.813914</td>\n",
       "      <td>-87.723665</td>\n",
       "      <td>{'latitude': '41.8139143113', 'needs_recoding'...</td>\n",
       "    </tr>\n",
       "    <tr>\n",
       "      <th>3</th>\n",
       "      <td>4700 PETE'S FRESH MARKET</td>\n",
       "      <td>1243125.0</td>\n",
       "      <td>245519.0</td>\n",
       "      <td>45000.0</td>\n",
       "      <td>A</td>\n",
       "      <td>4700 S KEDZIE AVE</td>\n",
       "      <td>60632</td>\n",
       "      <td>BRIGHTON PARK</td>\n",
       "      <td>58</td>\n",
       "      <td>14</td>\n",
       "      <td>17031842800</td>\n",
       "      <td>1.703184e+14</td>\n",
       "      <td>1.155792e+06</td>\n",
       "      <td>1.873271e+06</td>\n",
       "      <td>41.808047</td>\n",
       "      <td>-87.704119</td>\n",
       "      <td>{'latitude': '41.8080472717', 'needs_recoding'...</td>\n",
       "    </tr>\n",
       "    <tr>\n",
       "      <th>4</th>\n",
       "      <td>5659 W. DIVERSEY</td>\n",
       "      <td>1575023.0</td>\n",
       "      <td>277375.0</td>\n",
       "      <td>4000.0</td>\n",
       "      <td>B</td>\n",
       "      <td>5659 W DIVERSEY AVE</td>\n",
       "      <td>60639</td>\n",
       "      <td>BELMONT CRAGIN</td>\n",
       "      <td>19</td>\n",
       "      <td>30</td>\n",
       "      <td>17031190602</td>\n",
       "      <td>1.703119e+14</td>\n",
       "      <td>1.137914e+06</td>\n",
       "      <td>1.918002e+06</td>\n",
       "      <td>41.931135</td>\n",
       "      <td>-87.768612</td>\n",
       "      <td>{'latitude': '41.9311354035', 'needs_recoding'...</td>\n",
       "    </tr>\n",
       "  </tbody>\n",
       "</table>\n",
       "</div>"
      ],
      "text/plain": [
       "                 STORE NAME  LICENSE ID  ACCOUNT NUMBER  SQUARE FEET  \\\n",
       "0               200 LIQUORS     48663.0         17055.0       5000.0   \n",
       "1           3600 COMMISSARY     24279.0          9830.0       3800.0   \n",
       "2   4343 PETES FRESH MARKET   1336669.0        260303.0      57000.0   \n",
       "3  4700 PETE'S FRESH MARKET   1243125.0        245519.0      45000.0   \n",
       "4          5659 W. DIVERSEY   1575023.0        277375.0       4000.0   \n",
       "\n",
       "  BUFFER SIZE               ADDRESS  ZIP CODE COMMUNITY AREA NAME  \\\n",
       "0           B         204 E 47TH ST     60653     GRAND BOULEVARD   \n",
       "1           B  3600 N LAKE SHORE DR     60613           LAKE VIEW   \n",
       "2           A     4343 S PULASKI RD     60632      ARCHER HEIGHTS   \n",
       "3           A     4700 S KEDZIE AVE     60632       BRIGHTON PARK   \n",
       "4           B   5659 W DIVERSEY AVE     60639      BELMONT CRAGIN   \n",
       "\n",
       "   COMMUNITY AREA  WARD  CENSUS TRACT  CENSUS BLOCK  X COORDINATE  \\\n",
       "0              38     3   17031381500  1.703138e+14  1.178462e+06   \n",
       "1               6    46   17031060900  1.703106e+14  1.171866e+06   \n",
       "2              57    14   17031570100  1.703157e+14  1.150448e+06   \n",
       "3              58    14   17031842800  1.703184e+14  1.155792e+06   \n",
       "4              19    30   17031190602  1.703119e+14  1.137914e+06   \n",
       "\n",
       "   Y COORDINATE   LATITUDE  LONGITUDE  \\\n",
       "0  1.873949e+06  41.809424 -87.620952   \n",
       "1  1.924645e+06  41.948684 -87.643650   \n",
       "2  1.875370e+06  41.813914 -87.723665   \n",
       "3  1.873271e+06  41.808047 -87.704119   \n",
       "4  1.918002e+06  41.931135 -87.768612   \n",
       "\n",
       "                                            LOCATION  \n",
       "0  {'latitude': '41.8094238941', 'needs_recoding'...  \n",
       "1  {'latitude': '41.9486836744', 'needs_recoding'...  \n",
       "2  {'latitude': '41.8139143113', 'needs_recoding'...  \n",
       "3  {'latitude': '41.8080472717', 'needs_recoding'...  \n",
       "4  {'latitude': '41.9311354035', 'needs_recoding'...  "
      ]
     },
     "execution_count": 79,
     "metadata": {},
     "output_type": "execute_result"
    }
   ],
   "source": [
    "df.head()"
   ]
  },
  {
   "cell_type": "code",
   "execution_count": 80,
   "metadata": {},
   "outputs": [],
   "source": [
    "lat = df['LATITUDE']\n",
    "lon = df['LONGITUDE']\n",
    "name = df['STORE NAME']"
   ]
  },
  {
   "cell_type": "code",
   "execution_count": 81,
   "metadata": {},
   "outputs": [],
   "source": [
    "data = [\n",
    "    go.Scattermapbox(\n",
    "    lat=lat,\n",
    "    lon=lon,\n",
    "    mode='markers',\n",
    "    marker=dict(size=9),\n",
    "    text=name,\n",
    "    opacity = .7\n",
    "    )\n",
    "]"
   ]
  },
  {
   "cell_type": "code",
   "execution_count": 82,
   "metadata": {},
   "outputs": [],
   "source": [
    "layout = go.Layout(\n",
    "    autosize=True,\n",
    "    hovermode='closest',\n",
    "    mapbox=dict(\n",
    "        accesstoken=mapbox_access_token,\n",
    "        bearing=0,\n",
    "        center=dict(\n",
    "            lat = 41.8781,\n",
    "            lon = -87.6298\n",
    "        ),\n",
    "        pitch=0,\n",
    "        zoom=9\n",
    "    ),\n",
    ")\n",
    "\n",
    "fig = dict(data=data,layout=layout)"
   ]
  },
  {
   "cell_type": "code",
   "execution_count": 83,
   "metadata": {},
   "outputs": [
    {
     "name": "stdout",
     "output_type": "stream",
     "text": [
      "High five! You successfully sent some data to your account on plotly. View your plot in your browser at https://plot.ly/~Eliascm17/0 or inside your plot.ly account where it is named 'Multiple Mapbok'\n"
     ]
    },
    {
     "data": {
      "text/html": [
       "<iframe id=\"igraph\" scrolling=\"no\" style=\"border:none;\" seamless=\"seamless\" src=\"https://plot.ly/~Eliascm17/0.embed\" height=\"525px\" width=\"100%\"></iframe>"
      ],
      "text/plain": [
       "<plotly.tools.PlotlyDisplay object>"
      ]
     },
     "execution_count": 83,
     "metadata": {},
     "output_type": "execute_result"
    }
   ],
   "source": [
    "py.iplot(fig,filename='Multiple Mapbok')"
   ]
  }
 ],
 "metadata": {
  "kernelspec": {
   "display_name": "Python 3",
   "language": "python",
   "name": "python3"
  },
  "language_info": {
   "codemirror_mode": {
    "name": "ipython",
    "version": 3
   },
   "file_extension": ".py",
   "mimetype": "text/x-python",
   "name": "python",
   "nbconvert_exporter": "python",
   "pygments_lexer": "ipython3",
   "version": "3.6.5"
  }
 },
 "nbformat": 4,
 "nbformat_minor": 2
}
